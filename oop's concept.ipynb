{
 "cells": [
  {
   "cell_type": "code",
   "execution_count": 1,
   "id": "360e6700",
   "metadata": {},
   "outputs": [
    {
     "name": "stdout",
     "output_type": "stream",
     "text": [
      "Display function\n",
      "show function\n",
      "20\n",
      "20\n"
     ]
    }
   ],
   "source": [
    "#class and object\n",
    "#example for multiple attributes & functions\n",
    "class Test:\n",
    "    a = 20\n",
    "    b = 20\n",
    "    def display(self):\n",
    "        print(\"Display function\")\n",
    "    def show(self):\n",
    "        print(\"show function\")\n",
    "obj = Test()\n",
    "obj.display()\n",
    "obj.show()\n",
    "print(obj.a)\n",
    "print(obj.b)"
   ]
  },
  {
   "cell_type": "code",
   "execution_count": 3,
   "id": "b7aad832",
   "metadata": {},
   "outputs": [
    {
     "name": "stdout",
     "output_type": "stream",
     "text": [
      "constructor call\n"
     ]
    }
   ],
   "source": [
    "#constructor\n",
    "#create object + call constructor\n",
    "class Demo:\n",
    "    def __init__(self):\n",
    "        print(\"constructor call\")\n",
    "obj = Demo()"
   ]
  },
  {
   "cell_type": "code",
   "execution_count": 4,
   "id": "98d3ea1a",
   "metadata": {},
   "outputs": [
    {
     "name": "stdout",
     "output_type": "stream",
     "text": [
      "samsung\n",
      "samsung\n",
      "samsung\n"
     ]
    }
   ],
   "source": [
    "#variable\n",
    "#instance variable\n",
    "class Mobile:\n",
    "    def __init__(self):\n",
    "        #instance variable\n",
    "        self.model = 'samsung'\n",
    "    def show_model(self):\n",
    "        print(self.model)\n",
    "m1 = Mobile()\n",
    "m1.show_model()\n",
    "m2 = Mobile()\n",
    "m2.show_model()\n",
    "m3 = Mobile()\n",
    "m3.show_model()"
   ]
  },
  {
   "cell_type": "code",
   "execution_count": 6,
   "id": "01e26d14",
   "metadata": {},
   "outputs": [
    {
     "name": "stdout",
     "output_type": "stream",
     "text": [
      "20\n",
      "30\n",
      "30\n",
      "20\n"
     ]
    }
   ],
   "source": [
    "#Namespace\n",
    "class Test:\n",
    "    val = 10\n",
    "Test.val = 20\n",
    "print(Test.val)\n",
    "t1 = Test()\n",
    "t1.val = 30\n",
    "print(t1.val)\n",
    "t2 = Test()\n",
    "print(t1.val)\n",
    "t3 = Test()\n",
    "print(t3.val)"
   ]
  },
  {
   "cell_type": "code",
   "execution_count": 7,
   "id": "b6ea38e1",
   "metadata": {},
   "outputs": [
    {
     "name": "stdout",
     "output_type": "stream",
     "text": [
      "Nokia\n"
     ]
    }
   ],
   "source": [
    "#Type of methods or functions\n",
    "#instance method\n",
    "class Mobile:\n",
    "    def show_model(self):\n",
    "        print('Nokia')\n",
    "n = Mobile()\n",
    "n.show_model()"
   ]
  },
  {
   "cell_type": "code",
   "execution_count": 8,
   "id": "a414cc3e",
   "metadata": {},
   "outputs": [
    {
     "name": "stdout",
     "output_type": "stream",
     "text": [
      "samsung\n"
     ]
    }
   ],
   "source": [
    "#Mutator methods\n",
    "#getter and setter\n",
    "class Mobile:\n",
    "    def __init__(self):\n",
    "        self.model = 'Nokia'\n",
    "    def get_model(self):        #Accessor Method\n",
    "        return self.model\n",
    "    def set_model(self,mob):     #Mutator method\n",
    "        self.model = mob\n",
    "m = Mobile()\n",
    "m.set_model('samsung')\n",
    "print(m.get_model())"
   ]
  },
  {
   "cell_type": "code",
   "execution_count": 9,
   "id": "5422138f",
   "metadata": {},
   "outputs": [
    {
     "name": "stdout",
     "output_type": "stream",
     "text": [
      "Name=  ABC\n",
      "Gun Name:  AL47\n",
      "capacity:  75 Rounds\n"
     ]
    }
   ],
   "source": [
    "#Abstraction\n",
    "#nested class\n",
    "class Army:\n",
    "    def __init__(self):\n",
    "        self.name = 'ABC'\n",
    "        self.gn = self.Gun()      #create an object of inner class\n",
    "    #instance method\n",
    "    def show(self):\n",
    "        print('Name= ',self.name)\n",
    "    class Gun:\n",
    "        def __init__(self):\n",
    "            self.name = 'AL47'\n",
    "            self.capacity = '75 Rounds'\n",
    "        def display(self):\n",
    "            print('Gun Name: ',self.name)\n",
    "            print('capacity: ',self.capacity)\n",
    "obj = Army()\n",
    "obj.show()\n",
    "obj.gn.display()"
   ]
  },
  {
   "cell_type": "code",
   "execution_count": 10,
   "id": "311f04bf",
   "metadata": {},
   "outputs": [
    {
     "name": "stdout",
     "output_type": "stream",
     "text": [
      "class B\n",
      "class A\n"
     ]
    }
   ],
   "source": [
    "#inheritance\n",
    "class A:\n",
    "    def show(self):\n",
    "        print(\"class A\")\n",
    "class B(A):\n",
    "    def display(self):\n",
    "        print(\"class B\")\n",
    "obj = B()\n",
    "obj.display()\n",
    "obj.show()"
   ]
  },
  {
   "cell_type": "code",
   "execution_count": 12,
   "id": "036833ec",
   "metadata": {},
   "outputs": [
    {
     "name": "stdout",
     "output_type": "stream",
     "text": [
      "class B constructor\n",
      "2000\n",
      "class A instance method\n",
      "class B instance method\n"
     ]
    }
   ],
   "source": [
    "#conaructor overriding\n",
    "class A:\n",
    "    def __init__(self):\n",
    "        self.val = 1000\n",
    "        print(\"class A constructor\")\n",
    "    def show(self):\n",
    "        print(\"class A instance method\")\n",
    "class B(A):\n",
    "    def __init__(self):\n",
    "        self.val = 2000\n",
    "        print(\"class B constructor\")\n",
    "    def display(self):\n",
    "        print(\"class B instance method\")\n",
    "obj = B()\n",
    "print(obj.val)\n",
    "obj.show()\n",
    "obj.display()"
   ]
  },
  {
   "cell_type": "code",
   "execution_count": 13,
   "id": "034c4972",
   "metadata": {},
   "outputs": [
    {
     "name": "stdout",
     "output_type": "stream",
     "text": [
      "class A\n",
      "class B\n"
     ]
    }
   ],
   "source": [
    "#super()\n",
    "class A:\n",
    "    def __init__(self):\n",
    "        print(\"class A\")\n",
    "class B(A):\n",
    "    def __init__(self):\n",
    "        super().__init__()\n",
    "        print(\"class B\")\n",
    "obj = B()"
   ]
  },
  {
   "cell_type": "code",
   "execution_count": 15,
   "id": "ab55ace7",
   "metadata": {},
   "outputs": [
    {
     "name": "stdout",
     "output_type": "stream",
     "text": [
      "class A instance method\n",
      "class B instance method\n",
      "class c instance method\n"
     ]
    }
   ],
   "source": [
    "#Multiple-level inheritance\n",
    "class A:\n",
    "    def showA(self):\n",
    "        print(\"class A instance method\")\n",
    "class B(A):\n",
    "    def showB(self):\n",
    "        print(\"class B instance method\")\n",
    "class C(B):\n",
    "    def showC(self):\n",
    "        print(\"class c instance method\")\n",
    "obj = C()\n",
    "obj.showA()\n",
    "obj.showB()\n",
    "obj.showC()"
   ]
  },
  {
   "cell_type": "code",
   "execution_count": 16,
   "id": "e91bbbd6",
   "metadata": {},
   "outputs": [
    {
     "name": "stdout",
     "output_type": "stream",
     "text": [
      "Duck\n",
      "Horse\n",
      "Cat\n"
     ]
    }
   ],
   "source": [
    "#Polymorphism\n",
    "class Duck:\n",
    "    def walk(self):\n",
    "        print(\"Duck\")\n",
    "class Horse:\n",
    "    def walk(self):\n",
    "        print(\"Horse\")\n",
    "class Cat:\n",
    "    def walk(self):\n",
    "        print(\"Cat\")\n",
    "def myfunc(obj):\n",
    "    obj.walk()\n",
    "d = Duck()\n",
    "h = Horse()\n",
    "c = Cat()\n",
    "myfunc(d)\n",
    "myfunc(h)\n",
    "myfunc(c)"
   ]
  }
 ],
 "metadata": {
  "kernelspec": {
   "display_name": "Python 3",
   "language": "python",
   "name": "python3"
  },
  "language_info": {
   "codemirror_mode": {
    "name": "ipython",
    "version": 3
   },
   "file_extension": ".py",
   "mimetype": "text/x-python",
   "name": "python",
   "nbconvert_exporter": "python",
   "pygments_lexer": "ipython3",
   "version": "3.8.8"
  }
 },
 "nbformat": 4,
 "nbformat_minor": 5
}
