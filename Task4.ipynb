{
 "cells": [
  {
   "cell_type": "code",
   "execution_count": 1,
   "id": "ef216f47",
   "metadata": {},
   "outputs": [
    {
     "name": "stdout",
     "output_type": "stream",
     "text": [
      "20\n"
     ]
    }
   ],
   "source": [
    "#class\n",
    "class Test:\n",
    "    a = 10\n",
    "    b = 20\n",
    "    c = 30\n",
    "obj = Test()\n",
    "print(obj.b)"
   ]
  },
  {
   "cell_type": "code",
   "execution_count": 10,
   "id": "98bca423",
   "metadata": {},
   "outputs": [
    {
     "name": "stdout",
     "output_type": "stream",
     "text": [
      "ABC 20\n",
      "20\n"
     ]
    }
   ],
   "source": [
    "#Encapsulation\n",
    "#Access Specifiers:public, private, protected\n",
    "class Test:\n",
    "    def __init__(self,name,age):\n",
    "        self.name = name #private\n",
    "        self.age = age #protected\n",
    "    def display(self):\n",
    "        print(self.name,self.age)\n",
    "t = Test(\"ABC\", 20)\n",
    "t.display()\n",
    "#print(t._age)\n",
    "print(t.age)"
   ]
  },
  {
   "cell_type": "code",
   "execution_count": 12,
   "id": "832ddd9a",
   "metadata": {},
   "outputs": [
    {
     "name": "stdout",
     "output_type": "stream",
     "text": [
      "10\n",
      "20\n"
     ]
    }
   ],
   "source": [
    "#Inheritance: single inheritance\n",
    "class A:\n",
    "    val1 = 10\n",
    "class B(A):\n",
    "    val2 = 20\n",
    "obj = B()\n",
    "print(obj.val1)\n",
    "print(obj.val2)"
   ]
  },
  {
   "cell_type": "code",
   "execution_count": 16,
   "id": "c96541a3",
   "metadata": {},
   "outputs": [
    {
     "name": "stdout",
     "output_type": "stream",
     "text": [
      "class A onstance method\n",
      "class B instance method\n",
      "class c instance method\n"
     ]
    }
   ],
   "source": [
    "#Multilevel Inheritance\n",
    "class A:\n",
    "    def showA(self):\n",
    "        print(\"class A onstance method\")\n",
    "class B(A):\n",
    "    def showB(self):\n",
    "        print(\"class B instance method\")\n",
    "class C(B):\n",
    "    def showC(self):\n",
    "        print(\"class c instance method\")\n",
    "obj = C()\n",
    "obj.showA()\n",
    "obj.showB()\n",
    "obj.showC()"
   ]
  },
  {
   "cell_type": "code",
   "execution_count": 18,
   "id": "90a9b0d2",
   "metadata": {},
   "outputs": [
    {
     "name": "stdout",
     "output_type": "stream",
     "text": [
      "class A\n",
      "class B\n"
     ]
    }
   ],
   "source": [
    "#Polymorphism\n",
    "class A:\n",
    "    def show(self):\n",
    "        print(\"class A\")\n",
    "class B:\n",
    "    def show(self):\n",
    "        print(\"class B\")\n",
    "def myfunc(obj):\n",
    "    obj.show()\n",
    "obj1 = A()\n",
    "obj2 = B()\n",
    "myfunc(obj1)\n",
    "myfunc(obj2)"
   ]
  },
  {
   "cell_type": "code",
   "execution_count": 22,
   "id": "4e8d0536",
   "metadata": {},
   "outputs": [
    {
     "name": "stdout",
     "output_type": "stream",
     "text": [
      "disp function\n"
     ]
    }
   ],
   "source": [
    "#interface\n",
    "from abc import ABC, abstractmethod\n",
    "class Father(ABC):\n",
    "    @abstractmethod\n",
    "    def disp(self):\n",
    "        pass\n",
    "class Child(Father):\n",
    "    def disp(self):\n",
    "        print(\"disp function\")\n",
    "my = Child()\n",
    "my.disp()"
   ]
  },
  {
   "cell_type": "code",
   "execution_count": null,
   "id": "0698dc3a",
   "metadata": {},
   "outputs": [],
   "source": []
  }
 ],
 "metadata": {
  "kernelspec": {
   "display_name": "Python 3",
   "language": "python",
   "name": "python3"
  },
  "language_info": {
   "codemirror_mode": {
    "name": "ipython",
    "version": 3
   },
   "file_extension": ".py",
   "mimetype": "text/x-python",
   "name": "python",
   "nbconvert_exporter": "python",
   "pygments_lexer": "ipython3",
   "version": "3.8.8"
  }
 },
 "nbformat": 4,
 "nbformat_minor": 5
}
